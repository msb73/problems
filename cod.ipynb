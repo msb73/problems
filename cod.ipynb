{
 "cells": [
  {
   "cell_type": "code",
   "execution_count": 10,
   "metadata": {},
   "outputs": [
    {
     "name": "stdout",
     "output_type": "stream",
     "text": [
      "Not Possible\n"
     ]
    }
   ],
   "source": [
    "a=10\n",
    "b=[2]\n",
    "for i in b:\n",
    "    temp=abs(a+i)\n",
    "    temp2=abs(a-i)\n",
    "    if temp < temp2:\n",
    "        a=temp\n",
    "    else:\n",
    "        a=temp2\n",
    "    if a==0:\n",
    "        break\n",
    "if a==0:\n",
    "    print(\"Possible\")\n",
    "else:\n",
    "    print(\"Not Possible\")\n"
   ]
  },
  {
   "cell_type": "code",
   "execution_count": 9,
   "metadata": {},
   "outputs": [
    {
     "name": "stdout",
     "output_type": "stream",
     "text": [
      "1\n"
     ]
    }
   ],
   "source": [
    "id = {1:3}\n",
    "for i in id:\n",
    "    print(i)"
   ]
  },
  {
   "cell_type": "code",
   "execution_count": 10,
   "metadata": {},
   "outputs": [
    {
     "data": {
      "text/plain": [
       "1600.0"
      ]
     },
     "execution_count": 10,
     "metadata": {},
     "output_type": "execute_result"
    }
   ],
   "source": [
    "2000 - (2000 * 0.20)"
   ]
  },
  {
   "cell_type": "code",
   "execution_count": 27,
   "metadata": {},
   "outputs": [
    {
     "name": "stdout",
     "output_type": "stream",
     "text": [
      "False\n",
      "False\n"
     ]
    }
   ],
   "source": [
    "def p(str):\n",
    "    temp = lambda str: True if ('peas' in  str) else False\n",
    "    return temp(str)\n",
    "print(p('a pea pod is a legume, but the pea inside the pod is the pulse'))\n",
    "s  ='abc'\n",
    "print('ac' in s)"
   ]
  },
  {
   "cell_type": "code",
   "execution_count": null,
   "metadata": {},
   "outputs": [],
   "source": [
    "4\n",
    "401\n",
    "A2241\n",
    "2\n",
    "101\n",
    "A2241\n",
    "3\n",
    "301\n",
    "A2441\n",
    "1\n",
    "201\n",
    "T1231\n",
    "1\n",
    "A2441\n",
    "2"
   ]
  },
  {
   "cell_type": "code",
   "execution_count": null,
   "metadata": {},
   "outputs": [],
   "source": [
    "ls = [1, 2,3 ,4, 5, 6]"
   ]
  }
 ],
 "metadata": {
  "kernelspec": {
   "display_name": "Python 3.9.12 ('ds')",
   "language": "python",
   "name": "python3"
  },
  "language_info": {
   "codemirror_mode": {
    "name": "ipython",
    "version": 3
   },
   "file_extension": ".py",
   "mimetype": "text/x-python",
   "name": "python",
   "nbconvert_exporter": "python",
   "pygments_lexer": "ipython3",
   "version": "3.9.12"
  },
  "orig_nbformat": 4,
  "vscode": {
   "interpreter": {
    "hash": "752a814945de5692d73524e2eb298568e6685ed7a81ccad5af908171e5ed0fab"
   }
  }
 },
 "nbformat": 4,
 "nbformat_minor": 2
}
